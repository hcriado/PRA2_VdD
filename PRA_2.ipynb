{
 "cells": [
  {
   "cell_type": "code",
   "execution_count": 1,
   "id": "9a0531a5",
   "metadata": {},
   "outputs": [],
   "source": [
    "import csv\n",
    "import pandas as pd\n",
    "import numpy as np\n",
    "from seaborn import load_dataset"
   ]
  },
  {
   "cell_type": "code",
   "execution_count": 2,
   "id": "4fd305d7",
   "metadata": {},
   "outputs": [],
   "source": [
    "df=pd.read_csv(r\"C:\\Users\\hpcri\\Desktop\\Master_en_Data_Science\\8_cuatrimestre\\visualizacion_de_datos\\PRA_2\\dubizzle_cars_dataset.csv\")"
   ]
  },
  {
   "cell_type": "code",
   "execution_count": 3,
   "id": "644047c2",
   "metadata": {},
   "outputs": [],
   "source": [
    "countBrand = df['brand'].value_counts()\n",
    "sortedBrand = countBrand.sort_values(ascending=False).head(5)\n",
    "topBrands = sortedBrand.index\n",
    "brandModel = pd.DataFrame(columns=['Brand','Model', 'Quantity'])\n",
    "for indx in topBrands:\n",
    "    countModel=df[df.brand == indx][\"model\"].value_counts()\n",
    "    sortedModel = countModel.sort_values(ascending=False).head(5)\n",
    "    q = 0\n",
    "    while q < 5:\n",
    "        new_row = pd.DataFrame({'Brand':indx, 'Model':sortedModel.index[q], 'Quantity':sortedModel[q]}, index = [len(brandModel.index)])\n",
    "        brandModel = pd.concat([new_row, brandModel.loc[:]]).reset_index(drop=True)\n",
    "        q = q + 1\n"
   ]
  },
  {
   "cell_type": "code",
   "execution_count": 4,
   "id": "850fc561",
   "metadata": {},
   "outputs": [],
   "source": [
    "countBrand = df['brand'].value_counts()\n",
    "sortedBrand = countBrand.sort_values(ascending=False).head(5)\n",
    "topBrands = sortedBrand.index\n",
    "dfBrand = pd.DataFrame(columns=['Brand'])\n",
    "dfBrand['test'] = [0, 0, 0, 0,0]\n",
    "for indx in topBrands:\n",
    "    i = 0\n",
    "    countModel=df[df.brand == indx][\"model\"].value_counts()\n",
    "    sortedModel = countModel.sort_values(ascending=False).head(5)\n",
    "    new_row = pd.DataFrame({'Brand':indx, 'test':0}, index = [i])\n",
    "    dfBrand = pd.concat([new_row, dfBrand.loc[:]]).reset_index(drop=True)\n",
    "    q = 0\n",
    "    while q < 5:\n",
    "        m = 0\n",
    "        for mdl in sortedModel.index:\n",
    "            dfBrand[mdl] = dfBrand['test']\n",
    "            dfBrand.loc[dfBrand['Brand'] == indx, mdl] = sortedModel[m]\n",
    "            m = m + 1\n",
    "        q = q + 1\n",
    "    i = i + 1\n",
    "dfBrand = dfBrand[dfBrand['Brand'].notna()]\n",
    "dfBrand = dfBrand.fillna(0)"
   ]
  },
  {
   "cell_type": "code",
   "execution_count": 5,
   "id": "69041f2a",
   "metadata": {},
   "outputs": [],
   "source": [
    "PV=len(df[(df[\"fuel_type\"]==\"Petrol\")])\n",
    "DV=len(df[(df[\"fuel_type\"]==\"Diesel\")])\n",
    "HV=len(df[(df[\"fuel_type\"]==\"Hybrid\")])\n",
    "EV=len(df[(df[\"fuel_type\"]==\"Electric\")])\n",
    "dataFT = [['Petrol', PV], ['Diesel', DV], ['Hybrid', HV], ['Electric', EV]]\n",
    "dfFT = pd.DataFrame(dataFT, columns=['Type of fuel', 'Count'])\n",
    "fossilFuels = (df[df.fuel_type == 'Petrol'].loc[:, 'price'].mean() + df[df.fuel_type == 'Diesel'].loc[:, 'price'].mean())/2\n",
    "newEnergies = (df[df.fuel_type == 'Electric'].loc[:, 'price'].mean() + df[df.fuel_type == 'Hybrid'].loc[:, 'price'].mean())/2\n",
    "dataPropCost = [['Fossil Fuels', fossilFuels], ['New Energies', newEnergies]]\n",
    "dfPropCost = pd.DataFrame(dataPropCost, columns=['Type of propulsion', 'Count'])"
   ]
  },
  {
   "cell_type": "code",
   "execution_count": 10,
   "id": "2d57774e",
   "metadata": {},
   "outputs": [],
   "source": [
    "df['engine_capacity_cc'] = df['engine_capacity_cc'].replace('',\"Unknown\")\n",
    "df['engine_capacity_cc'] = df['engine_capacity_cc'].fillna(\"Unknown\")\n",
    "df['location_name'] = df['location_name'].replace('',\"Not available\")\n",
    "df['location_name'] = df['location_name'].fillna(\"Not available\")\n",
    "df['area_name'] = df['area_name'].replace('',\"Not available\")\n",
    "df['area_name'] = df['area_name'].fillna(\"Not available\")\n",
    "df['count'] = 1"
   ]
  },
  {
   "cell_type": "code",
   "execution_count": 7,
   "id": "e82bc2f3",
   "metadata": {},
   "outputs": [],
   "source": [
    "WY=len(df[(df[\"warranty\"]==\"Yes\")])\n",
    "WN=len(df[(df[\"warranty\"]==\"No\")])\n",
    "WDNA=len(df[(df[\"warranty\"]==\"Does not apply\")])\n",
    "dataWarr = [['Yes', WY], ['No', WN], ['Does not apply', WDNA]]\n",
    "dfWarr = pd.DataFrame(dataWarr, columns=['Warranty', 'Count'])\n",
    "WY_price = (df[df.warranty == 'Yes'].loc[:, 'price'].mean())\n",
    "WN_price = (df[df.warranty == 'No'].loc[:, 'price'].mean())\n",
    "dataWarrCost = [['With warranty', WY_price], ['Without warranty', WN_price]]\n",
    "dfWarrCost = pd.DataFrame(dataWarrCost, columns=['Warranty', 'Mean_price'])"
   ]
  },
  {
   "cell_type": "code",
   "execution_count": null,
   "id": "1fb6b978",
   "metadata": {},
   "outputs": [],
   "source": []
  },
  {
   "cell_type": "code",
   "execution_count": 20,
   "id": "7b37f7a0",
   "metadata": {},
   "outputs": [],
   "source": []
  },
  {
   "cell_type": "code",
   "execution_count": 11,
   "id": "609e1c4d",
   "metadata": {},
   "outputs": [],
   "source": [
    "dfBrand.to_csv('Brand_Model.csv', index=False)\n",
    "dfFT.to_csv('Fuel_types.csv', index=False)\n",
    "dfPropCost.to_csv('PropulsionVSPrice.csv', index=False)\n",
    "df.to_csv('dubizzle_cars_dataset_MODIFIED.csv', index=False)\n",
    "dfWarr.to_csv('warranty.csv', index=False)\n",
    "dfWarrCost.to_csv('warranty_price.csv', index=False)"
   ]
  },
  {
   "cell_type": "code",
   "execution_count": null,
   "id": "878d9cfa",
   "metadata": {},
   "outputs": [],
   "source": []
  }
 ],
 "metadata": {
  "kernelspec": {
   "display_name": "Python 3 (ipykernel)",
   "language": "python",
   "name": "python3"
  },
  "language_info": {
   "codemirror_mode": {
    "name": "ipython",
    "version": 3
   },
   "file_extension": ".py",
   "mimetype": "text/x-python",
   "name": "python",
   "nbconvert_exporter": "python",
   "pygments_lexer": "ipython3",
   "version": "3.10.9"
  }
 },
 "nbformat": 4,
 "nbformat_minor": 5
}
